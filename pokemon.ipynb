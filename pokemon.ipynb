{
 "cells": [
  {
   "cell_type": "code",
   "execution_count": 88,
   "metadata": {},
   "outputs": [
    {
     "name": "stdout",
     "output_type": "stream",
     "text": [
      "bulbasaur(grass) 100/100\n",
      "Charmander(fire) 90/90\n"
     ]
    }
   ],
   "source": [
    "from pathlib import Path\n",
    "\n",
    "\n",
    "class Pokemon:\n",
    "    def __init__(self, name , primary_type , max_hp):\n",
    "        self.name = name\n",
    "        self.primary_type = primary_type\n",
    "        self.hp=max_hp\n",
    "        self.max_hp =max_hp\n",
    "    def __str__(self):\n",
    "        return f\"{self.name}({self.primary_type}) {self.hp}/{self.max_hp}\"\n",
    "    \n",
    "    def feed(self):\n",
    "        if self.hp < self.max_hp:\n",
    "            \n",
    "            self.hp += 1\n",
    "            print(f\"{self.name} has now {self.hp} HP\")\n",
    "        else:\n",
    "            print(f\"{self.name}is full.\")\n",
    "    \n",
    "    def battle(self, other):\n",
    "        print(\"battle:\" ,self.name , other.name)\n",
    "        result = self.typewheel(self.primary_type , other.primary_type)\n",
    "        print(f\"{self.name} fought {other.name} and the result is {result}\")\n",
    "        \n",
    "    @staticmethod  \n",
    "    def typewheel(type1, type2):\n",
    "        result ={0: \"lose\", 1: \"win\", -1:\"tie\"}\n",
    "        \n",
    "        game_map ={'water':0, \"fire\":1, \"grass\":2}\n",
    "        \n",
    "        wl_matrix =[\n",
    "            [-1, 1 , 0],#water\n",
    "            [0 , 1 , -1],#fire\n",
    "            [1 , 0 , -1]#grass\n",
    "        ]\n",
    "        \n",
    "        wl_result = wl_matrix[game_map[type1]][game_map[type2]]\n",
    "        return result[wl_result]\n",
    "    #take a look at it\n",
    "    #feed them to increase health\n",
    "    #make them battle and decide the winner\n",
    "if __name__=='__main__':\n",
    "    print(Pokemon(name='bulbasaur', primary_type ='grass' , max_hp=100))\n",
    "    print(Pokemon(name= 'Charmander' , primary_type='fire', max_hp =90))"
   ]
  },
  {
   "cell_type": "code",
   "execution_count": 89,
   "metadata": {},
   "outputs": [],
   "source": [
    "b = Pokemon(name='bulbasaur', primary_type ='grass' , max_hp=100)\n",
    "c = Pokemon(name= 'Charmander' , primary_type='fire', max_hp =90)"
   ]
  },
  {
   "cell_type": "code",
   "execution_count": 92,
   "metadata": {},
   "outputs": [
    {
     "name": "stdout",
     "output_type": "stream",
     "text": [
      "battle: bulbasaur Charmander\n",
      "bulbasaur fought Charmander and the result is lose\n"
     ]
    }
   ],
   "source": [
    "b.battle(c)"
   ]
  },
  {
   "cell_type": "code",
   "execution_count": 75,
   "metadata": {},
   "outputs": [
    {
     "name": "stdout",
     "output_type": "stream",
     "text": [
      "Charmander has now 73 HP\n"
     ]
    }
   ],
   "source": [
    "c.feed()\n"
   ]
  },
  {
   "cell_type": "code",
   "execution_count": 47,
   "metadata": {},
   "outputs": [
    {
     "name": "stdout",
     "output_type": "stream",
     "text": [
      "bulbasaur(grass) 103/100\n"
     ]
    }
   ],
   "source": [
    "b.feed()\n",
    "print(b)"
   ]
  },
  {
   "cell_type": "code",
   "execution_count": null,
   "metadata": {},
   "outputs": [],
   "source": []
  },
  {
   "cell_type": "code",
   "execution_count": null,
   "metadata": {},
   "outputs": [],
   "source": []
  }
 ],
 "metadata": {
  "kernelspec": {
   "display_name": "Python 3",
   "language": "python",
   "name": "python3"
  },
  "language_info": {
   "codemirror_mode": {
    "name": "ipython",
    "version": 3
   },
   "file_extension": ".py",
   "mimetype": "text/x-python",
   "name": "python",
   "nbconvert_exporter": "python",
   "pygments_lexer": "ipython3",
   "version": "3.8.5"
  }
 },
 "nbformat": 4,
 "nbformat_minor": 4
}
